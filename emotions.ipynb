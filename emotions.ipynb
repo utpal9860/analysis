{
 "cells": [
  {
   "cell_type": "markdown",
   "metadata": {},
   "source": [
    "# WhatsApp Chat Analysis"
   ]
  },
  {
   "cell_type": "markdown",
   "metadata": {},
   "source": [
    "**Step 1.** Declare RegExp patterns that you want to remove from the chat file. "
   ]
  },
  {
   "cell_type": "code",
   "execution_count": 2,
   "metadata": {},
   "outputs": [],
   "source": [
    "import re\n",
    "\n",
    "mediaPattern = r\"(\\<Media omitted\\>)\" # Because it serves no purpose\n",
    "regexMedia = re.compile(mediaPattern, flags=re.M)\n",
    "\n",
    "dateAndTimepattern = r\"(\\d+\\/\\d+\\/\\d+)(,)(\\s)(\\d+:\\d+)(\\s)(-)(\\s\\w+)*(:)\"\n",
    "regexDate = re.compile(dateAndTimepattern, flags=re.M)"
   ]
  },
  {
   "cell_type": "markdown",
   "metadata": {},
   "source": [
    "**Step 2.** Define a function that will remove the artefacts, and return the chat file split into lines."
   ]
  },
  {
   "cell_type": "code",
   "execution_count": 15,
   "metadata": {},
   "outputs": [],
   "source": [
    "def cleanText(filename):    \n",
    "    chat = open(filename ,encoding=\"utf8\")\n",
    "    chatText = chat.read()\n",
    "    chat.close()\n",
    "\n",
    "    # 01/09/17, 11:34 PM - Amfa:\n",
    "\n",
    "    \"\"\"\n",
    "    Removes the matches and \n",
    "    replace them with an empty string\n",
    "    \"\"\"\n",
    "    chatText = regexMedia.sub(\"\", chatText)\n",
    "    chatText = regexDate.sub(\"\", chatText)\n",
    "\n",
    "    \n",
    "    lines = []\n",
    "\n",
    "    for line in chatText.splitlines():\n",
    "        if line.strip() is not \"\": # If it's empty, we don't need it\n",
    "            lines.append(line.strip())\n",
    "\n",
    "    return lines"
   ]
  },
  {
   "cell_type": "code",
   "execution_count": 4,
   "metadata": {},
   "outputs": [
    {
     "name": "stderr",
     "output_type": "stream",
     "text": [
      "[nltk_data] Downloading package vader_lexicon to\n",
      "[nltk_data]     C:\\Users\\kumar\\AppData\\Roaming\\nltk_data...\n",
      "[nltk_data]   Package vader_lexicon is already up-to-date!\n"
     ]
    },
    {
     "data": {
      "text/plain": [
       "True"
      ]
     },
     "execution_count": 4,
     "metadata": {},
     "output_type": "execute_result"
    }
   ],
   "source": [
    "import nltk\n",
    "nltk.download('vader_lexicon')\n",
    "nltk.download('stopwords')\n",
    "nltk.download('punkt')"
   ]
  },
  {
   "cell_type": "markdown",
   "metadata": {},
   "source": [
    "**Step 3.** Import Dependencies for the actual shenanigans."
   ]
  },
  {
   "cell_type": "code",
   "execution_count": 5,
   "metadata": {},
   "outputs": [],
   "source": [
    "import sys\n",
    "import matplotlib.pyplot as plt\n",
    "import nltk\n",
    "from utilities import cleanText \n",
    "from nltk.sentiment.vader import SentimentIntensityAnalyzer\n",
    "sentiment_analyzer = SentimentIntensityAnalyzer()"
   ]
  },
  {
   "cell_type": "markdown",
   "metadata": {},
   "source": [
    "**Step 4.** Define an analyze method that takes in the name of the chat file, and then performs magic (through code.)"
   ]
  },
  {
   "cell_type": "code",
   "execution_count": 16,
   "metadata": {},
   "outputs": [],
   "source": [
    "def analyze(name):\n",
    "    linesList = cleanText(name + '.txt')\n",
    "    neutral, negative, positive = 0, 0, 0\n",
    "\n",
    "    for index, sentence in enumerate(linesList):\n",
    "        if re.match(r'^[\\w]', sentence) is None:\n",
    "            continue\n",
    "        scores = sentiment_analyzer.polarity_scores(sentence)\n",
    "        scores.pop('compound', None)\n",
    "\n",
    "        maxAttribute = max(scores, key=lambda k: scores[k])\n",
    "\n",
    "        if maxAttribute == \"neu\":\n",
    "            neutral += 1\n",
    "        elif maxAttribute == \"neg\":\n",
    "            negative += 1\n",
    "        else:\n",
    "            positive += 1\n",
    "\n",
    "    total = neutral + negative + positive\n",
    "    print(\"Negative: {0}% | Neutral: {1}% | Positive: {2}%\".format(\n",
    "        negative*100/total, neutral*100/total, positive*100/total))\n",
    "\n",
    "    labels = 'Neutral', 'Negative', 'Positive'\n",
    "    sizes = [neutral, negative, positive]\n",
    "    colors = ['#00bcd7', '#F57C00', '#CDDC39']\n",
    "\n",
    "    # Plot\n",
    "    plt.pie(sizes, labels=labels, colors=colors,\n",
    "            autopct='%1.1f%%', startangle=140)\n",
    "\n",
    "    plt.axis('equal')\n",
    "    plt.title(\"Sentiment Analysis - Chat with {0}\".format(name.capitalize()))\n",
    "    plt.show()\n",
    "    return linesList"
   ]
  },
  {
   "cell_type": "code",
   "execution_count": 7,
   "metadata": {},
   "outputs": [],
   "source": [
    "%matplotlib inline"
   ]
  },
  {
   "cell_type": "code",
   "execution_count": 30,
   "metadata": {},
   "outputs": [
    {
     "name": "stdout",
     "output_type": "stream",
     "text": [
      "Negative: 1.1663750728984421% | Neutral: 97.33399983337499% | Positive: 1.4996250937265683%\n"
     ]
    },
    {
     "data": {
      "image/png": "[encoded data removed]",
      "text/plain": [
       "<Figure size 432x288 with 1 Axes>"
      ]
     },
     "metadata": {},
     "output_type": "display_data"
    }
   ],
   "source": [
    "linesList=analyze(\"Rahul\")"
   ]
  },
  {
   "cell_type": "code",
   "execution_count": null,
   "metadata": {},
   "outputs": [],
   "source": []
  },
  {
   "cell_type": "code",
   "execution_count": 19,
   "metadata": {},
   "outputs": [],
   "source": [
    "import pandas as pd \n",
    "import numpy as np"
   ]
  },
  {
   "cell_type": "code",
   "execution_count": 31,
   "metadata": {},
   "outputs": [],
   "source": [
    "f= open(\"cleandata.txt\",\"w+\",encoding=\"utf8\")\n",
    "for i in linesList:\n",
    "     f.write(i + \" \")\n",
    "f.close()"
   ]
  },
  {
   "cell_type": "code",
   "execution_count": null,
   "metadata": {},
   "outputs": [],
   "source": []
  },
  {
   "cell_type": "code",
   "execution_count": 34,
   "metadata": {},
   "outputs": [
    {
     "ename": "ModuleNotFoundError",
     "evalue": "No module named 'wordcloud'",
     "output_type": "error",
     "traceback": [
      "\u001b[1;31m---------------------------------------------------------------------------\u001b[0m",
      "\u001b[1;31mModuleNotFoundError\u001b[0m                       Traceback (most recent call last)",
      "\u001b[1;32m<ipython-input-34-dc1828f2a80e>\u001b[0m in \u001b[0;36m<module>\u001b[1;34m()\u001b[0m\n\u001b[1;32m----> 1\u001b[1;33m \u001b[1;32mimport\u001b[0m \u001b[0mwordcloud\u001b[0m\u001b[1;33m\u001b[0m\u001b[0m\n\u001b[0m",
      "\u001b[1;31mModuleNotFoundError\u001b[0m: No module named 'wordcloud'"
     ]
    }
   ],
   "source": [
    "import wordcloud\n"
   ]
  },
  {
   "cell_type": "code",
   "execution_count": null,
   "metadata": {},
   "outputs": [],
   "source": []
  },
  {
   "cell_type": "code",
   "execution_count": 14,
   "metadata": {},
   "outputs": [
    {
     "name": "stderr",
     "output_type": "stream",
     "text": [
      "[nltk_data] Downloading package stopwords to\n",
      "[nltk_data]     C:\\Users\\kumar\\AppData\\Roaming\\nltk_data...\n",
      "[nltk_data]   Package stopwords is already up-to-date!\n",
      "[nltk_data] Downloading package punkt to\n",
      "[nltk_data]     C:\\Users\\kumar\\AppData\\Roaming\\nltk_data...\n",
      "[nltk_data]   Package punkt is already up-to-date!\n"
     ]
    },
    {
     "data": {
      "text/plain": [
       "True"
      ]
     },
     "execution_count": 14,
     "metadata": {},
     "output_type": "execute_result"
    }
   ],
   "source": [
    "nltk.download('stopwords')\n",
    "nltk.download('punkt')"
   ]
  },
  {
   "cell_type": "code",
   "execution_count": 37,
   "metadata": {},
   "outputs": [],
   "source": [
    "def wordcount():\n",
    "    chat = open(\"cleandata.txt\" ,encoding=\"utf8\")\n",
    "    default_stopwords = set(nltk.corpus.stopwords.words('english'))\n",
    "    words = nltk.word_tokenize(chat.read())\n",
    "    words = [word for word in words if not word.isnumeric()]\n",
    "    words = [word.lower() for word in words]\n",
    "    fdist = nltk.FreqDist(words)\n",
    "    i=1\n",
    "    for word, frequency in fdist.most_common(50):\n",
    "        print(u'{}.){}:{}'.format(i,word, frequency))\n",
    "        i+=1"
   ]
  },
  {
   "cell_type": "code",
   "execution_count": 38,
   "metadata": {},
   "outputs": [
    {
     "name": "stdout",
     "output_type": "stream",
     "text": [
      "1.)..:2427\n",
      "2.)?:1915\n",
      "3.)heh:1670\n",
      "4.)bhai:1617\n",
      "5.)nahi:1491\n",
      "6.)hai:1336\n",
      "7.)bhi:1171\n",
      "8.)nai:1029\n",
      "9.)toh:1012\n",
      "10.)...:1002\n",
      "11.)mein:997\n",
      "12.)na:959\n",
      "13.)kya:858\n",
      "14.)ko:733\n",
      "15.)mai:725\n",
      "16.)bc:723\n",
      "17.)ka:669\n",
      "18.)tha:645\n",
      "19.)re:626\n",
      "20.)kuch:617\n",
      "21.)woh:602\n",
      "22.)tu:586\n",
      "23.)se:526\n",
      "24.)ki:516\n",
      "25.)baat:448\n",
      "26.)ky:405\n",
      "27.)tho:393\n",
      "28.)sab:390\n",
      "29.)k:389\n",
      "30.)raha:376\n",
      "31.)meko:375\n",
      "32.)hih:374\n",
      "33.)fir:362\n",
      "34.)hi:362\n",
      "35.)usko:352\n",
      "36.)pe:329\n",
      "37.)aur:329\n",
      "38.)ke:327\n",
      "39.)wo:325\n",
      "40.)ye:311\n",
      "41.)bola:300\n",
      "42.)abhi:297\n",
      "43.)kar:290\n",
      "44.)lavde:278\n",
      "45.)kiya:277\n",
      "46.)hua:272\n",
      "47.)bahoot:268\n",
      "48.)kyu:266\n",
      "49.)kal:253\n",
      "50.)abh:249\n"
     ]
    }
   ],
   "source": [
    "wordcount()"
   ]
  },
  {
   "cell_type": "code",
   "execution_count": null,
   "metadata": {},
   "outputs": [],
   "source": []
  }
 ],
 "metadata": {
  "kernelspec": {
   "display_name": "Python 3",
   "language": "python",
   "name": "python3"
  },
  "language_info": {
   "codemirror_mode": {
    "name": "ipython",
    "version": 3
   },
   "file_extension": ".py",
   "mimetype": "text/x-python",
   "name": "python",
   "nbconvert_exporter": "python",
   "pygments_lexer": "ipython3",
   "version": "3.7.0"
  }
 },
 "nbformat": 4,
 "nbformat_minor": 2
}
